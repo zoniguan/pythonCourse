{
 "metadata": {
  "language_info": {
   "codemirror_mode": {
    "name": "ipython",
    "version": 3
   },
   "file_extension": ".py",
   "mimetype": "text/x-python",
   "name": "python",
   "nbconvert_exporter": "python",
   "pygments_lexer": "ipython3",
   "version": "3.7.4-final"
  },
  "orig_nbformat": 2,
  "kernelspec": {
   "name": "python_defaultSpec_1599890254653",
   "display_name": "Python 3.7.4 64-bit ('base': conda)"
  }
 },
 "nbformat": 4,
 "nbformat_minor": 2,
 "cells": [
  {
   "cell_type": "markdown",
   "metadata": {},
   "source": [
    "针对Delicious数据集，对SimpleTagBased算法进行改进（使用NormTagBased、TagBased-TFIDF算法）"
   ]
  },
  {
   "cell_type": "code",
   "execution_count": 58,
   "metadata": {},
   "outputs": [],
   "source": [
    "\n",
    "import random\n",
    "import math\n",
    "import operator\n",
    "import pandas as pd\n",
    "import numpy as np"
   ]
  },
  {
   "cell_type": "code",
   "execution_count": 81,
   "metadata": {},
   "outputs": [],
   "source": [
    "file_path = r'E:\\bi_course\\L3\\sat_course\\课堂资料\\delicious-2k\\user_taggedbookmarks-timestamps.dat'\n",
    "# 字典类型，保存了user对item的tag，即{userid: {item1:[tag1, tag2], ...}}\n",
    "records = {}\n",
    "# 训练集，测试集\n",
    "train_data = dict()\n",
    "test_data = dict()\n",
    "# 用户标签，商品标签\n",
    "user_tags = dict() #用户打过的标签\n",
    "user_items = dict() #用户打过标签的商品\n",
    "tag_items = dict() #打上标签的items\n",
    "tags_users = dict() #某标签使用过的用户"
   ]
  },
  {
   "cell_type": "code",
   "execution_count": 82,
   "metadata": {},
   "outputs": [],
   "source": [
    "# 数据加载\n",
    "def load_data():\n",
    "    print(\"开始数据加载...\")\n",
    "    df = pd.read_csv(file_path, sep='\\t')\n",
    "    for i in range(len(df)):\n",
    "        uid = df['userID'][i]\n",
    "        iid = df['bookmarkID'][i]\n",
    "        tag = df['tagID'][i]\n",
    "        # 键不存在时，设置默认值{}\n",
    "        records.setdefault(uid,{})\n",
    "        records[uid].setdefault(iid,[])\n",
    "        records[uid][iid].append(tag)\n",
    "\n",
    "    print(\"数据集大小为 %d.\" % (len(df)))\n",
    "    print(\"设置tag的人数 %d.\" % (len(records)))\n",
    "    print(\"数据加载完成\\n\")"
   ]
  },
  {
   "cell_type": "code",
   "execution_count": 83,
   "metadata": {},
   "outputs": [],
   "source": [
    "# 将数据集拆分为训练集和测试集\n",
    "def train_test_split(ratio, seed=100):\n",
    "    random.seed(seed)\n",
    "    for u in records.keys():\n",
    "        for i in records[u].keys():\n",
    "            # ratio比例设置为测试集\n",
    "            if random.random()<ratio:\n",
    "                test_data.setdefault(u,{})\n",
    "                test_data[u].setdefault(i,[])\n",
    "                for t in records[u][i]:\n",
    "                    test_data[u][i].append(t)\n",
    "            else:\n",
    "                train_data.setdefault(u,{})\n",
    "                train_data[u].setdefault(i,[])\n",
    "                for t in records[u][i]:\n",
    "                    train_data[u][i].append(t)\n",
    "    return        train_data, test_data\n",
    "    print(\"训练集样本数 %d, 测试集样本数 %d\" % (len(train_data),len(test_data)))\n"
   ]
  },
  {
   "cell_type": "code",
   "execution_count": 87,
   "metadata": {},
   "outputs": [],
   "source": [
    "def recommend(user, N, methodName):\n",
    "    recommend_items=dict()\n",
    "    # 对Item进行打分，分数为所有的（用户对某标签使用的次数 wut除以用户打标签的总数, 乘以 商品被打上相同标签的次数 wti除以所有商品打上某标签的总数）之和\n",
    "    tagged_items = user_items[user]\n",
    "    for tag, wut in user_tags[user].items():\n",
    "        # print(self.user_tags[user].items())\n",
    "        for item, wti in tag_items[tag].items():\n",
    "            \n",
    "                if item in tagged_items:\n",
    "                    continue\n",
    "                # print('wut = %s, wti = %s' %(wut, wti))\n",
    "                # 在这里进行函数的改造, 新增NormTagBased, TFIDF_TagBased的算法\n",
    "                if  methodName == 'simpleTagBased':\n",
    "                    if item not in recommend_items:\n",
    "                        recommend_items[item] = wut * wti\n",
    "                    else:\n",
    "                        recommend_items[item] = recommend_items[item] + wut * wti\n",
    "                \n",
    "                elif methodName == 'NormTagBased': \n",
    "\n",
    "                    if item not in recommend_items:\n",
    "                        recommend_items[item] = wut/sum(user_tags[user].values()) * wti/sum(tag_items[tag].values())\n",
    "                    else:\n",
    "                        recommend_items[item] = recommend_items[item] + wut/sum(user_tags[user].values()) * wti/sum(tag_items[tag].values())\n",
    "                \n",
    "                elif methodName == 'TFIDF_TagBased':\n",
    "                    if item not in recommend_items:\n",
    "                        recommend_items[item] = wut * wti/np.log( 1 + sum(tag_items[tag].values()))\n",
    "                    else:\n",
    "                        recommend_items[item] = recommend_items[item] + wut * wti/np.log( 1 + sum(tag_items[tag].values()))\n",
    "\n",
    "    return sorted(recommend_items.items(), key=operator.itemgetter(1), reverse=True)[0:N]"
   ]
  },
  {
   "cell_type": "code",
   "execution_count": 36,
   "metadata": {},
   "outputs": [],
   "source": [
    "\n",
    "# 使用测试集，计算准确率和召回率\n",
    "def precisionAndRecall(N, methodName):\n",
    "    hit = 0\n",
    "    h_recall = 0\n",
    "    h_precision = 0\n",
    "    for user,items in test_data.items():\n",
    "        if user not in train_data: # 对user不属于train_data的跳过\n",
    "            continue\n",
    "        # 获取Top-N推荐列表\n",
    "        rank = recommend(user, N, methodName)\n",
    "        for item,rui in rank:\n",
    "            if item in items:\n",
    "                hit = hit + 1\n",
    "        h_recall = h_recall + len(items)\n",
    "        h_precision = h_precision + N\n",
    "    #print('一共命中 %d 个, 一共推荐 %d 个, 用户设置tag总数 %d 个' %(hit, h_precision, h_recall))\n",
    "    # 返回准确率 和 召回率\n",
    "    return ( hit/(h_precision*1.0)), (hit/(h_recall*1.0))"
   ]
  },
  {
   "cell_type": "code",
   "execution_count": 44,
   "metadata": {},
   "outputs": [],
   "source": [
    "# 使用测试集，对推荐结果进行评估\n",
    "def testRecommend(methodName):\n",
    "    for n in [5,10,20,30,40,50]:\n",
    "        precision,recall = precisionAndRecall(n, methodName)\n",
    "        print( \"%10s %10d %10.3f%% %10.3f%%\" % (methodName, n, precision * 100, recall  * 100) )"
   ]
  },
  {
   "cell_type": "code",
   "execution_count": 26,
   "metadata": {},
   "outputs": [],
   "source": [
    "# 设置矩阵 mat[index, item] = 1\n",
    "def addValueToMat(mat, index, item, value=1):\n",
    "    if index not in mat:\n",
    "        mat.setdefault(index,{})\n",
    "        mat[index].setdefault(item,value)\n",
    "    else:\n",
    "        if item not in mat[index]:\n",
    "            mat[index][item] = value\n",
    "        else:\n",
    "            mat[index][item] += value"
   ]
  },
  {
   "cell_type": "code",
   "execution_count": 97,
   "metadata": {},
   "outputs": [],
   "source": [
    "# 使用训练集，初始化user_tags, tag_items, user_items\n",
    "def initStat():\n",
    "    records=train_data\n",
    "    for u,items in records.items():\n",
    "        for i,tags in items.items():\n",
    "            for tag in tags:\n",
    "                #print tag\n",
    "                # 用户和tag的关系\n",
    "                addValueToMat(user_tags, u, tag, 1)\n",
    "                # tag和item的关系\n",
    "                addValueToMat(tag_items, tag, i, 1)\n",
    "                # 用户和item的关系\n",
    "                addValueToMat(user_items, u, i, 1)\n",
    "                # #某标签使用过的用户\n",
    "                # addValueToMat(tags_users, tag, u, 1)\n",
    "\n",
    "    # return user_tags, tag_items, user_items\n",
    "    print(\"user_tags, tag_items, user_items初始化完成.\")\n",
    "    print(\"user_tags大小 %d, tag_items大小 %d, user_items大小 %d\" % (len(user_tags), len(tag_items), len(user_items)))"
   ]
  },
  {
   "cell_type": "code",
   "execution_count": 91,
   "metadata": {
    "tags": []
   },
   "outputs": [
    {
     "output_type": "stream",
     "name": "stdout",
     "text": "开始数据加载...\n数据集大小为 437593.\n设置tag的人数 1867.\n数据加载完成\n\n"
    }
   ],
   "source": [
    "# 数据加载\n",
    "load_data()"
   ]
  },
  {
   "cell_type": "code",
   "execution_count": 98,
   "metadata": {
    "tags": []
   },
   "outputs": [
    {
     "output_type": "stream",
     "name": "stdout",
     "text": "user_tags, tag_items, user_items初始化完成.\nuser_tags大小 1860, tag_items大小 36884, user_items大小 1860\n"
    }
   ],
   "source": [
    "# 训练集，测试集拆分，20%测试集\n",
    "train_test_split(0.2)\n",
    "initStat()"
   ]
  },
  {
   "cell_type": "code",
   "execution_count": 45,
   "metadata": {
    "tags": []
   },
   "outputs": [
    {
     "output_type": "stream",
     "name": "stdout",
     "text": "推荐结果评估\nTagBased Method          N        精确率        召回率\nsimpleTagBased          5      0.829%      0.355%\nsimpleTagBased         10      0.633%      0.542%\nsimpleTagBased         20      0.512%      0.877%\nsimpleTagBased         30      0.429%      1.103%\nsimpleTagBased         40      0.381%      1.304%\nsimpleTagBased         50      0.345%      1.476%\ndone\n"
    }
   ],
   "source": [
    "print(\"推荐结果评估\")\n",
    "print(\"%10s %10s %10s %10s\" % ('TagBased Method','N',\"精确率\",'召回率'))\n",
    "\n",
    "testRecommend(methodName = 'simpleTagBased')\n",
    "\n",
    "print('done')"
   ]
  },
  {
   "cell_type": "code",
   "execution_count": 47,
   "metadata": {
    "tags": []
   },
   "outputs": [
    {
     "output_type": "stream",
     "name": "stdout",
     "text": "推荐结果评估\nTagBased Method          N        精确率        召回率\nNormTagBased          5      0.717%      0.307%\nNormTagBased         10      0.526%      0.451%\nNormTagBased         20      0.412%      0.705%\nNormTagBased         30      0.340%      0.872%\nNormTagBased         40      0.293%      1.002%\nNormTagBased         50      0.269%      1.150%\ndone\n"
    }
   ],
   "source": [
    "print(\"推荐结果评估\")\n",
    "print(\"%10s %10s %10s %10s\" % ('TagBased Method','N',\"精确率\",'召回率'))\n",
    "\n",
    "testRecommend(methodName = 'NormTagBased')\n",
    "\n",
    "print('done')"
   ]
  },
  {
   "cell_type": "code",
   "execution_count": 99,
   "metadata": {
    "tags": []
   },
   "outputs": [
    {
     "output_type": "stream",
     "name": "stdout",
     "text": "推荐结果评估\nTagBased Method          N        精确率        召回率\nTFIDF_TagBased          5      0.918%      0.393%\nTFIDF_TagBased         10      0.722%      0.618%\nTFIDF_TagBased         20      0.543%      0.930%\nTFIDF_TagBased         30      0.446%      1.146%\nTFIDF_TagBased         40      0.398%      1.361%\nTFIDF_TagBased         50      0.357%      1.529%\ndone\n"
    }
   ],
   "source": [
    "print(\"推荐结果评估\")\n",
    "print(\"%10s %10s %10s %10s\" % ('TagBased Method','N',\"精确率\",'召回率'))\n",
    "\n",
    "testRecommend(methodName = 'TFIDF_TagBased')\n",
    "\n",
    "print('done')"
   ]
  },
  {
   "cell_type": "code",
   "execution_count": 70,
   "metadata": {},
   "outputs": [],
   "source": [
    " "
   ]
  }
 ]
}