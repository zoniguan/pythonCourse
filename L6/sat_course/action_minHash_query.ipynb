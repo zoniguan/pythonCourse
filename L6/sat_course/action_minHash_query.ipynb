{
 "metadata": {
  "language_info": {
   "codemirror_mode": {
    "name": "ipython",
    "version": 3
   },
   "file_extension": ".py",
   "mimetype": "text/x-python",
   "name": "python",
   "nbconvert_exporter": "python",
   "pygments_lexer": "ipython3",
   "version": "3.6.12-final"
  },
  "orig_nbformat": 2,
  "kernelspec": {
   "name": "Python 3.6.12 64-bit ('bi_course': conda)",
   "display_name": "Python 3.6.12 64-bit ('bi_course': conda)",
   "metadata": {
    "interpreter": {
     "hash": "f40a494e12f41c3cb8ad47943c58bfb28c820f54c939d0d6cdb208996e1c35cd"
    }
   }
  }
 },
 "nbformat": 4,
 "nbformat_minor": 2,
 "cells": [
  {
   "source": [
    "使用MinHashLSHForest对微博新闻句子进行检索; 针对某句话进行Query，查找Top-3相似的句子\n",
    "\n",
    "### 思路\n",
    "1. 数据加载\n",
    "2. 对数据进行整理\n",
    "- 切分句子\n",
    "- 对每个句子进行分词\n",
    "3. 创建minHash, 建立minHash的语料库forest(设立index)\n",
    "4. 进行检索\n",
    "- 对query进行分词并创建minHash\n",
    "- 在forest中查询, 输出jaccard值和序号\n",
    "- 得到jaccard值最高的前三个句子"
   ],
   "cell_type": "markdown",
   "metadata": {}
  },
  {
   "cell_type": "code",
   "execution_count": 210,
   "metadata": {
    "tags": []
   },
   "outputs": [
    {
     "output_type": "stream",
     "name": "stdout",
     "text": "句子总数: 39\n[&#39;斯科拉里愿意执教国足&#39;, &#39;上一届如果是里皮从头芾到尾，是很大机会入世界杯的，这一届，没几个能用的，除非大力归化，谁来都没用&#39;, &#39;国足输给叙利亚之后，里皮辞职&#39;, &#39;谁将成为新主帅，成为广大球迷关注的焦点&#39;, &#39;目前舆论方面，倾向于三个人：山东鲁能主帅李霄鹏、武汉卓尔主帅李铁、前广州恒大主帅斯科拉里&#39;, &#39;据了解，无论中国足协态度如何，里皮其实在宣布请辞同时已经去意已决&#39;, &#39;据了解&#39;, &#39;比赛当晚，他的太太西蒙内塔女士及儿子小里皮都在现场看台上观战&#39;, &#39;辞职后的里皮没有改变原有的计划——赛后第二天他会从迪拜直接飞回意大利&#39;, &#39;这意味着，他本来也没打算与球队管理层或中国足协高层在赛后第一时间内进行有关辞职的对话&#39;, &#39;至于辞职以后的善后工作包括合同问题的沟通工作也要待日后双方进一步协商&#39;, &#39;让我们回顾一下国足历届外籍教练——里皮，佩兰，卡马乔，杜伊科维奇，阿里·汉，米卢……&#39;, &#39;来之前一个比一个有名，来之后一个比一个水，国足踢不好完全是足协的问题，足协不解散重组，你把天王老子请来都不行斯科拉里想执教中国国足&#39;, &#39;老头有点意思，凡是里皮干过的地方，他就想试试&#39;, &#39;当然，老头也是世界杯冠军教头，万一折在中国这里也没啥丢人的，毕竟里皮也折了嘛&#39;, &#39;可以试试&#39;, &#39;斯科拉里的水平，还不如里皮&#39;, &#39;斯科拉里，看好的不是国足，而是年薪……非常应该辞职&#39;, &#39;中国足球，不需要名帅，也不需要外籍教练，因为一点儿毛用也没有&#39;, &#39;从施拉普纳到现在，二十余年间，中国足球竟然大踏步的倒退，一点儿也杀不住车，奶奶的，刹车系统坏了&#39;, &#39;穿着几百块钱的球衣，几千块钱的球鞋，几万块钱的包，几十万的包机，几百万上千万的年薪赛后，叙利亚主教练在更衣室里给每个队员一个耳光&#39;, &#39;主教练说：赛前老子就再三交代，这一场无论如何都不能赢中国队&#39;, &#39;中国援助了我们那么多粮食和美金，如果他们不再援助我们国家，你狗日些要吃土去&#39;, &#39;，球员委屈的说：七十多分钟了，哪个晓得那个龟儿子往他们家球门踢嘛&#39;, &#39;里皮辞职返回意大利，他的助教马达洛尼随队返回广州&#39;, &#39;马达洛尼在接受采访时还原了当时更衣室中的情况：当时在更衣室，球员们都过来试图说服里皮，让他收回决定，队长郑智尝试阻止他，足协的代表也希望他在考虑一下，我也建议他重新考虑，但无济于事&#39;, &#39;中国足协：接受里皮辞职请求，将深刻反思看了个报道，马达洛尼说：关于里皮的辞职，我事先也没有被告知，自己也不清楚发生了什么，也许是里皮头脑一热的决定&#39;, &#39;足协也可以留下我们，教练组所有成员都愿意留下，我们也可以和其他教练合作&#39;, &#39;因为中国队给斯科拉里开足了薪水，给足了他需要的条件&#39;, &#39;尤其是最后一句话，看好中国队的潜力，这句话真是太鼓舞人心啦&#39;, &#39;带队结果绝不会比里皮更差，而且我一定能带国足夺得2022世界杯冠军&#39;, &#39;大家支持斯科拉里不&#39;, &#39;曾经也以为世界名帅里皮能够带领国足走出迷茫，让国足蒸蒸日上，也让我们国人不再迷茫，吃下一颗定心丸&#39;, &#39;现在我才知道，其实最应改变的不是教练，而是我们的国足，我们的训练机制、学习机制、培养机制&#39;, &#39;只有真正做好这些，才能使无论哪位名帅接手都能游刃有余地打好比赛&#39;, &#39;国足输给叙利亚后，里皮坐不住了，直接辞职了难怪有网友说，爱护生命，远离男足&#39;, &#39;男足的水平也就跟南极洲企鹅踢球&#39;, &#39;足协主席赠书《红星照我去战斗》送给中国国脚，埃尔克森、里皮懂红色文化吗&#39;, &#39;国足昨晚1-2输给叙利亚，赛后主帅里皮宣布辞职&#39;]\n"
    }
   ],
   "source": [
    "## 数据加载\n",
    "import re\n",
    "weibo = open(r'E:\\bi_course\\L6\\sat_course\\课堂资料\\L6-code\\L6\\weibos.txt', encoding='UTF-8')\n",
    "text = weibo.read()\n",
    "\n",
    "# 查看数据后, 以句号，叹号，问号作为句子分隔; 并去掉\\n和\\u200b符号\n",
    "sentences = re.split('[#。！？]', text.replace('\\n', '').replace('\\u200b','').replace('“','').replace('”','').replace(' ',''))\n",
    "\n",
    "# 删除每一个空行\n",
    "for i in range(len(sentences))[::-1]: #删除元素之后list后面元素向前移动，而且长度变短, 倒叙删除\n",
    "    if sentences[i] == '':  #删除为空的句子\n",
    "        del sentences[i]\n",
    "    elif sentences[i][1] == '，': #删除以\",\"开头的句子\n",
    "        sentences[i].replace('，','')\n",
    "\n",
    "print('句子总数:',len(sentences))\n",
    "print(sentences)"
   ]
  },
  {
   "cell_type": "code",
   "execution_count": 214,
   "metadata": {},
   "outputs": [],
   "source": [
    "# 设置停用词\n",
    "\n",
    "stopwords = open(r\"E:\\bi_course\\L3\\tue_course\\chinese_stopwords.txt\",\"r\", encoding = 'utf-8')\n",
    "stop = [ word for  word in stopwords.readlines()] #[:-1]表示删除\\n字符"
   ]
  },
  {
   "cell_type": "code",
   "execution_count": 215,
   "metadata": {},
   "outputs": [],
   "source": [
    "#分词函数\n",
    "\n",
    "from sklearn.feature_extraction.text import TfidfVectorizer\n",
    "import jieba.posseg as pseg\n",
    "\n",
    "def get_item(item_text):\n",
    "    item_str = \"\"\n",
    "    item = pseg.cut(item_text) #利用jieba对句子进行分词\n",
    "    for  i in list(item):\n",
    "        #去掉停用词\n",
    "         if i.word not in list(stop):  \n",
    "            item_str += i.word\n",
    "\n",
    "            #tfidf_vectorizer.fit_transform的输入需要空格分隔的单词\n",
    "            item_str += \" \"\n",
    "\n",
    "    return item_str\n",
    "\n",
    "# 对item_str创建MinHash函数\n",
    "def get_minhash(item_str):\n",
    "    temp = MinHash()\n",
    "    for d in item_str:\n",
    "        temp.update(d.encode('utf8')) \n",
    "    return temp"
   ]
  },
  {
   "cell_type": "code",
   "execution_count": 216,
   "metadata": {
    "tags": []
   },
   "outputs": [],
   "source": [
    "# 得到分词后的documents\n",
    "\n",
    "documents = []\n",
    "\n",
    "for item_text in sentences:\n",
    "    # 将words进行分词\n",
    "    item_str = get_item(item_text)\n",
    "    documents.append(item_str)\n",
    "\n",
    "# documents"
   ]
  },
  {
   "cell_type": "code",
   "execution_count": 217,
   "metadata": {},
   "outputs": [],
   "source": [
    "# 创建LSH Forest及MinHash对象\n",
    "\n",
    "from datasketch import MinHash, MinHashLSH, MinHashLSHForest\n",
    "\n",
    "minhash_ls = []\n",
    "forest = MinHashLSHForest()\n",
    "\n",
    "for i in range(len(documents)):\n",
    "\n",
    "    #得到train_documents[i]的MinHash\n",
    "    temp = get_minhash(documents[i])\n",
    "    minhash_ls.append(temp)\n",
    "    forest.add(i, temp)\n",
    "\n",
    "# index所有key，以便可以进行检索\n",
    "forest.index()\n"
   ]
  },
  {
   "cell_type": "code",
   "execution_count": 218,
   "metadata": {
    "tags": []
   },
   "outputs": [
    {
     "output_type": "stream",
     "name": "stdout",
     "text": "35 0.234375 国足输给叙利亚后，里皮坐不住了，直接辞职了难怪有网友说，爱护生命，远离男足\n36 0.2109375 男足的水平也就跟南极洲企鹅踢球\n23 0.078125 ，球员委屈的说：七十多分钟了，哪个晓得那个龟儿子往他们家球门踢嘛\nTop 3相似句子 [35, 36, 23]\n"
    }
   ],
   "source": [
    "query = '爱护生命，远离男足'\n",
    "# 将item_text进行分词\n",
    "item_str = get_item(query)\n",
    "# 得到item_str的MinHash\n",
    "minhash_query = get_minhash(item_str)\n",
    "\n",
    "# 查询forest中与query相似的Top-K个邻居\n",
    "result = forest.query(minhash_query, 3)\n",
    "\n",
    "for i in range(len(result)):\n",
    "    print(result[i], minhash_query.jaccard(minhash_ls[result[i]]), documents[result[i]].replace(' ', ''))\n",
    "\n",
    "print(\"Top 3相似句子\", result)"
   ]
  }
 ]
}