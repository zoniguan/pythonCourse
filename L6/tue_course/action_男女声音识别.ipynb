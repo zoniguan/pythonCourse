{
 "metadata": {
  "language_info": {
   "codemirror_mode": {
    "name": "ipython",
    "version": 3
   },
   "file_extension": ".py",
   "mimetype": "text/x-python",
   "name": "python",
   "nbconvert_exporter": "python",
   "pygments_lexer": "ipython3",
   "version": "3.6.12-final"
  },
  "orig_nbformat": 2,
  "kernelspec": {
   "name": "Python 3.6.12 64-bit ('bi_course': conda)",
   "display_name": "Python 3.6.12 64-bit ('bi_course': conda)",
   "metadata": {
    "interpreter": {
     "hash": "f40a494e12f41c3cb8ad47943c58bfb28c820f54c939d0d6cdb208996e1c35cd"
    }
   }
  }
 },
 "nbformat": 4,
 "nbformat_minor": 2,
 "cells": [
  {
   "source": [
    "3168个录制的声音样本（来自男性和女性演讲者），采集的频率范围是0hz-280hz，已经对数据进行了预处理; 一共有21个属性值，请判断该声音是男还是女？\n",
    "使用Accuracy作为评价标准\n",
    "\n",
    "#### 思路\n",
    "1. 加载数据 & 数据处理\n",
    "2. 切分训练集及测试集\n",
    "3. 使用不同模型, 计算accuracy, 看效果 "
   ],
   "cell_type": "markdown",
   "metadata": {}
  },
  {
   "cell_type": "code",
   "execution_count": 34,
   "metadata": {},
   "outputs": [],
   "source": [
    "import pandas as pd\n",
    "from sklearn.metrics import accuracy_score\n",
    "\n",
    "import warnings\n",
    "warnings.filterwarnings('ignore')\n"
   ]
  },
  {
   "cell_type": "code",
   "execution_count": 56,
   "metadata": {
    "tags": []
   },
   "outputs": [],
   "source": [
    "#计算accuracy 并将每次的结果存到df\n",
    "\n",
    "def calc_accuracy(y_predict, y_test, model_name, score_all):\n",
    "    \n",
    "    score_each = pd.Series()\n",
    "\n",
    "    y_predict = [1 if x>=0.5 else 0 for x in y_predict] #将预测概率转化成0,1\n",
    "    acc_score = accuracy_score(y_predict, y_test) #计算accuracy\n",
    "    \n",
    "\n",
    "    score_each['model'] = model_name\n",
    "    score_each['score'] = acc_score\n",
    "    score_each = score_each.to_frame().T\n",
    "    score_all = pd.concat([score_all,score_each], axis= 0)\n",
    "\n",
    "    print('Accuracy Score: %0.4f' % acc_score)\n",
    "    return score_all\n"
   ]
  },
  {
   "cell_type": "code",
   "execution_count": 47,
   "metadata": {
    "tags": []
   },
   "outputs": [
    {
     "output_type": "stream",
     "name": "stdout",
     "text": "数据量: 3168 数据维度: 21\n"
    },
    {
     "output_type": "execute_result",
     "data": {
      "text/plain": "   meanfreq        sd    median       Q25       Q75       IQR       skew  \\\n0  0.059781  0.064241  0.032027  0.015071  0.090193  0.075122  12.863462   \n1  0.066009  0.067310  0.040229  0.019414  0.092666  0.073252  22.423285   \n2  0.077316  0.083829  0.036718  0.008701  0.131908  0.123207  30.757155   \n3  0.151228  0.072111  0.158011  0.096582  0.207955  0.111374   1.232831   \n4  0.135120  0.079146  0.124656  0.078720  0.206045  0.127325   1.101174   \n\n          kurt    sp.ent       sfm  ...  centroid   meanfun    minfun  \\\n0   274.402906  0.893369  0.491918  ...  0.059781  0.084279  0.015702   \n1   634.613855  0.892193  0.513724  ...  0.066009  0.107937  0.015826   \n2  1024.927705  0.846389  0.478905  ...  0.077316  0.098706  0.015656   \n3     4.177296  0.963322  0.727232  ...  0.151228  0.088965  0.017798   \n4     4.333713  0.971955  0.783568  ...  0.135120  0.106398  0.016931   \n\n     maxfun   meandom    mindom    maxdom   dfrange   modindx  label  \n0  0.275862  0.007812  0.007812  0.007812  0.000000  0.000000   male  \n1  0.250000  0.009014  0.007812  0.054688  0.046875  0.052632   male  \n2  0.271186  0.007990  0.007812  0.015625  0.007812  0.046512   male  \n3  0.250000  0.201497  0.007812  0.562500  0.554688  0.247119   male  \n4  0.266667  0.712812  0.007812  5.484375  5.476562  0.208274   male  \n\n[5 rows x 21 columns]",
      "text/html": "<div>\n<style scoped>\n    .dataframe tbody tr th:only-of-type {\n        vertical-align: middle;\n    }\n\n    .dataframe tbody tr th {\n        vertical-align: top;\n    }\n\n    .dataframe thead th {\n        text-align: right;\n    }\n</style>\n<table border=\"1\" class=\"dataframe\">\n  <thead>\n    <tr style=\"text-align: right;\">\n      <th></th>\n      <th>meanfreq</th>\n      <th>sd</th>\n      <th>median</th>\n      <th>Q25</th>\n      <th>Q75</th>\n      <th>IQR</th>\n      <th>skew</th>\n      <th>kurt</th>\n      <th>sp.ent</th>\n      <th>sfm</th>\n      <th>...</th>\n      <th>centroid</th>\n      <th>meanfun</th>\n      <th>minfun</th>\n      <th>maxfun</th>\n      <th>meandom</th>\n      <th>mindom</th>\n      <th>maxdom</th>\n      <th>dfrange</th>\n      <th>modindx</th>\n      <th>label</th>\n    </tr>\n  </thead>\n  <tbody>\n    <tr>\n      <th>0</th>\n      <td>0.059781</td>\n      <td>0.064241</td>\n      <td>0.032027</td>\n      <td>0.015071</td>\n      <td>0.090193</td>\n      <td>0.075122</td>\n      <td>12.863462</td>\n      <td>274.402906</td>\n      <td>0.893369</td>\n      <td>0.491918</td>\n      <td>...</td>\n      <td>0.059781</td>\n      <td>0.084279</td>\n      <td>0.015702</td>\n      <td>0.275862</td>\n      <td>0.007812</td>\n      <td>0.007812</td>\n      <td>0.007812</td>\n      <td>0.000000</td>\n      <td>0.000000</td>\n      <td>male</td>\n    </tr>\n    <tr>\n      <th>1</th>\n      <td>0.066009</td>\n      <td>0.067310</td>\n      <td>0.040229</td>\n      <td>0.019414</td>\n      <td>0.092666</td>\n      <td>0.073252</td>\n      <td>22.423285</td>\n      <td>634.613855</td>\n      <td>0.892193</td>\n      <td>0.513724</td>\n      <td>...</td>\n      <td>0.066009</td>\n      <td>0.107937</td>\n      <td>0.015826</td>\n      <td>0.250000</td>\n      <td>0.009014</td>\n      <td>0.007812</td>\n      <td>0.054688</td>\n      <td>0.046875</td>\n      <td>0.052632</td>\n      <td>male</td>\n    </tr>\n    <tr>\n      <th>2</th>\n      <td>0.077316</td>\n      <td>0.083829</td>\n      <td>0.036718</td>\n      <td>0.008701</td>\n      <td>0.131908</td>\n      <td>0.123207</td>\n      <td>30.757155</td>\n      <td>1024.927705</td>\n      <td>0.846389</td>\n      <td>0.478905</td>\n      <td>...</td>\n      <td>0.077316</td>\n      <td>0.098706</td>\n      <td>0.015656</td>\n      <td>0.271186</td>\n      <td>0.007990</td>\n      <td>0.007812</td>\n      <td>0.015625</td>\n      <td>0.007812</td>\n      <td>0.046512</td>\n      <td>male</td>\n    </tr>\n    <tr>\n      <th>3</th>\n      <td>0.151228</td>\n      <td>0.072111</td>\n      <td>0.158011</td>\n      <td>0.096582</td>\n      <td>0.207955</td>\n      <td>0.111374</td>\n      <td>1.232831</td>\n      <td>4.177296</td>\n      <td>0.963322</td>\n      <td>0.727232</td>\n      <td>...</td>\n      <td>0.151228</td>\n      <td>0.088965</td>\n      <td>0.017798</td>\n      <td>0.250000</td>\n      <td>0.201497</td>\n      <td>0.007812</td>\n      <td>0.562500</td>\n      <td>0.554688</td>\n      <td>0.247119</td>\n      <td>male</td>\n    </tr>\n    <tr>\n      <th>4</th>\n      <td>0.135120</td>\n      <td>0.079146</td>\n      <td>0.124656</td>\n      <td>0.078720</td>\n      <td>0.206045</td>\n      <td>0.127325</td>\n      <td>1.101174</td>\n      <td>4.333713</td>\n      <td>0.971955</td>\n      <td>0.783568</td>\n      <td>...</td>\n      <td>0.135120</td>\n      <td>0.106398</td>\n      <td>0.016931</td>\n      <td>0.266667</td>\n      <td>0.712812</td>\n      <td>0.007812</td>\n      <td>5.484375</td>\n      <td>5.476562</td>\n      <td>0.208274</td>\n      <td>male</td>\n    </tr>\n  </tbody>\n</table>\n<p>5 rows × 21 columns</p>\n</div>"
     },
     "metadata": {},
     "execution_count": 47
    }
   ],
   "source": [
    "#加载数据\n",
    "voice = pd.read_csv(r'E:\\bi_course\\L6\\tue_course\\课堂资料\\L6-code\\code\\tue_course\\voice\\voice.csv')\n",
    "print('数据量:',voice.shape[0],'数据维度:',voice.shape[1])\n",
    "# print(voice.isna().sum()) #查看是否有空值\n",
    "voice.head(5)\n"
   ]
  },
  {
   "cell_type": "code",
   "execution_count": 48,
   "metadata": {
    "tags": []
   },
   "outputs": [],
   "source": [
    "#用labelEncoder将label改成0,1\n",
    "from sklearn import preprocessing\n",
    "le = preprocessing.LabelEncoder()\n",
    "voice['label'] = le.fit_transform(voice['label']) #male 是1, female是0\n",
    "# print(voice)\n",
    "\n",
    "X = voice.iloc[:,:-1] #去除label列\n",
    "y =  voice.iloc[:,-1] #只保留label列\n",
    "\n",
    "attr_ls = list(X.columns) #特征属性list\n",
    "\n",
    "#切分train, test \n",
    "from sklearn.model_selection import train_test_split\n",
    "X_train, X_test, y_train, y_test = train_test_split(X, y, test_size=0.2, random_state=42)"
   ]
  },
  {
   "cell_type": "code",
   "execution_count": 69,
   "metadata": {
    "tags": []
   },
   "outputs": [
    {
     "output_type": "stream",
     "name": "stdout",
     "text": "Training until validation scores don&#39;t improve for 200 rounds\n[25]\ttraining&#39;s auc: 0.99808\tvalid_0&#39;s auc: 0.995514\n[50]\ttraining&#39;s auc: 0.998244\tvalid_0&#39;s auc: 0.995099\n[75]\ttraining&#39;s auc: 0.998258\tvalid_0&#39;s auc: 0.995304\n[100]\ttraining&#39;s auc: 0.998416\tvalid_0&#39;s auc: 0.995774\n[125]\ttraining&#39;s auc: 0.998572\tvalid_0&#39;s auc: 0.995684\n[150]\ttraining&#39;s auc: 0.99878\tvalid_0&#39;s auc: 0.995894\n[175]\ttraining&#39;s auc: 0.998981\tvalid_0&#39;s auc: 0.995984\n[200]\ttraining&#39;s auc: 0.999159\tvalid_0&#39;s auc: 0.996203\n[225]\ttraining&#39;s auc: 0.999335\tvalid_0&#39;s auc: 0.996123\n[250]\ttraining&#39;s auc: 0.999483\tvalid_0&#39;s auc: 0.996103\n[275]\ttraining&#39;s auc: 0.999585\tvalid_0&#39;s auc: 0.996403\n[300]\ttraining&#39;s auc: 0.99968\tvalid_0&#39;s auc: 0.996933\n[325]\ttraining&#39;s auc: 0.999755\tvalid_0&#39;s auc: 0.997202\n[350]\ttraining&#39;s auc: 0.999809\tvalid_0&#39;s auc: 0.997272\n[375]\ttraining&#39;s auc: 0.999865\tvalid_0&#39;s auc: 0.997302\n[400]\ttraining&#39;s auc: 0.999908\tvalid_0&#39;s auc: 0.997452\n[425]\ttraining&#39;s auc: 0.999933\tvalid_0&#39;s auc: 0.997482\n[450]\ttraining&#39;s auc: 0.999958\tvalid_0&#39;s auc: 0.997592\n[475]\ttraining&#39;s auc: 0.999969\tvalid_0&#39;s auc: 0.997592\n[500]\ttraining&#39;s auc: 0.999978\tvalid_0&#39;s auc: 0.997572\n[525]\ttraining&#39;s auc: 0.999987\tvalid_0&#39;s auc: 0.997552\n[550]\ttraining&#39;s auc: 0.999993\tvalid_0&#39;s auc: 0.997532\n[575]\ttraining&#39;s auc: 0.999995\tvalid_0&#39;s auc: 0.997532\n[600]\ttraining&#39;s auc: 0.999998\tvalid_0&#39;s auc: 0.997502\n[625]\ttraining&#39;s auc: 0.999998\tvalid_0&#39;s auc: 0.997572\n[650]\ttraining&#39;s auc: 0.999999\tvalid_0&#39;s auc: 0.997642\n[675]\ttraining&#39;s auc: 0.999999\tvalid_0&#39;s auc: 0.997672\n[700]\ttraining&#39;s auc: 1\tvalid_0&#39;s auc: 0.997742\n[725]\ttraining&#39;s auc: 1\tvalid_0&#39;s auc: 0.997742\n[750]\ttraining&#39;s auc: 1\tvalid_0&#39;s auc: 0.997762\n[775]\ttraining&#39;s auc: 1\tvalid_0&#39;s auc: 0.997792\n[800]\ttraining&#39;s auc: 1\tvalid_0&#39;s auc: 0.997812\n[825]\ttraining&#39;s auc: 1\tvalid_0&#39;s auc: 0.997812\n[850]\ttraining&#39;s auc: 1\tvalid_0&#39;s auc: 0.997792\n[875]\ttraining&#39;s auc: 1\tvalid_0&#39;s auc: 0.997812\n[900]\ttraining&#39;s auc: 1\tvalid_0&#39;s auc: 0.997822\n[925]\ttraining&#39;s auc: 1\tvalid_0&#39;s auc: 0.997872\n[950]\ttraining&#39;s auc: 1\tvalid_0&#39;s auc: 0.997862\n[975]\ttraining&#39;s auc: 1\tvalid_0&#39;s auc: 0.997882\n[1000]\ttraining&#39;s auc: 1\tvalid_0&#39;s auc: 0.997882\nDid not meet early stopping. Best iteration is:\n[680]\ttraining&#39;s auc: 1\tvalid_0&#39;s auc: 0.997672\nAccuracy Score: 0.9795\n"
    }
   ],
   "source": [
    "score_all = pd.DataFrame() #初始化\n",
    "\n",
    "#用lightgbm训练 并输出accuracy分数\n",
    "\n",
    "import lightgbm as lgb\n",
    "param = {'boosting_type':'gbdt',\n",
    "                         'objective' : 'binary', \n",
    "                         'metric': 'auc', #评估指标 \n",
    "                         'learning_rate' : 0.01, #学习率\n",
    "                         'max_depth' : 20, #树的最大深度\n",
    "                         'feature_fraction':0.8, #每次迭代中特征使用比例\n",
    "                         'bagging_fraction': 0.9, #样本采样比例\n",
    "                         'bagging_freq': 8, #bagging次数\n",
    "                         'lambda_l1': 0.6, #L1正则\n",
    "                         'lambda_l2': 0 #  越小l2正则程度越高  \n",
    "        }\n",
    "\n",
    "\n",
    "#转化成lgb的数据结构\n",
    "train_data = lgb.Dataset(X_train, label=y_train) \n",
    "test_data = lgb.Dataset(X_test, label=y_test) \n",
    "\n",
    "#参数输入到lgb模型中\n",
    "model = lgb.train(param,\n",
    "                    train_data,\n",
    "                    valid_sets= [test_data,train_data],\n",
    "                    num_boost_round = 1000,\n",
    "                    early_stopping_rounds=200,\n",
    "                    verbose_eval=25\n",
    "                    \n",
    "                    )\n",
    "\n",
    "#预测\n",
    "y_predict = model.predict(X_test) \n",
    "#输出accuracy分数\n",
    "score_all = calc_accuracy(y_predict, y_test,'lgb',score_all)"
   ]
  },
  {
   "cell_type": "code",
   "execution_count": 71,
   "metadata": {
    "tags": []
   },
   "outputs": [
    {
     "output_type": "stream",
     "name": "stdout",
     "text": "[0]\ttrain-auc:0.995294\ttest-auc:0.986582\nMultiple eval metrics have been passed: &#39;test-auc&#39; will be used for early stopping.\n\nWill train until test-auc hasn&#39;t improved in 200 rounds.\n[25]\ttrain-auc:0.99936\ttest-auc:0.995579\n[50]\ttrain-auc:0.999584\ttest-auc:0.995324\n[75]\ttrain-auc:0.999632\ttest-auc:0.995329\n[100]\ttrain-auc:0.999713\ttest-auc:0.995499\n[125]\ttrain-auc:0.99976\ttest-auc:0.995644\n[150]\ttrain-auc:0.999812\ttest-auc:0.995914\n[175]\ttrain-auc:0.999865\ttest-auc:0.996123\n[200]\ttrain-auc:0.9999\ttest-auc:0.996363\n[225]\ttrain-auc:0.999925\ttest-auc:0.996543\n[250]\ttrain-auc:0.999945\ttest-auc:0.996643\n[275]\ttrain-auc:0.999957\ttest-auc:0.996683\n[300]\ttrain-auc:0.999969\ttest-auc:0.996913\n[325]\ttrain-auc:0.999978\ttest-auc:0.997332\n[350]\ttrain-auc:0.999981\ttest-auc:0.997352\n[375]\ttrain-auc:0.999989\ttest-auc:0.997402\n[400]\ttrain-auc:0.999992\ttest-auc:0.997492\n[425]\ttrain-auc:0.999996\ttest-auc:0.997422\n[450]\ttrain-auc:0.999996\ttest-auc:0.997382\n[475]\ttrain-auc:0.999996\ttest-auc:0.997332\n[500]\ttrain-auc:0.999997\ttest-auc:0.997332\n[525]\ttrain-auc:0.999999\ttest-auc:0.997282\n[550]\ttrain-auc:0.999999\ttest-auc:0.997203\n[575]\ttrain-auc:0.999999\ttest-auc:0.997242\nStopping. Best iteration:\n[395]\ttrain-auc:0.999992\ttest-auc:0.997502\n\nAccuracy Score: 0.9779\n"
    }
   ],
   "source": [
    "#用xgboost训练 并输出accuracy分数\n",
    "\n",
    "import xgboost as xgb\n",
    "param = {'boosting_type':'gbdt',\n",
    "        'objective' : 'binary:logistic', #\n",
    "        'eval_metric' : 'auc',\n",
    "        'eta' : 0.01,\n",
    "        'max_depth' : 20,\n",
    "        'colsample_bytree':0.8,\n",
    "        'subsample': 0.9,\n",
    "        'subsample_freq': 8,\n",
    "        'alpha': 0.6,\n",
    "        'lambda': 0,\n",
    "        }\n",
    "\n",
    "#转化成xgboost数据格式\n",
    "train_data = xgb.DMatrix(X_train, label=y_train)\n",
    "test_data = xgb.DMatrix(X_test, label=y_test)\n",
    "\n",
    "#训练\n",
    "model = xgb.train(param, \n",
    "    train_data, \n",
    "    evals=[(train_data, 'train'), (test_data, 'test')], \n",
    "    num_boost_round = 10000, \n",
    "    early_stopping_rounds=200, \n",
    "    verbose_eval=25)\n",
    "\n",
    "\n",
    "#预测\n",
    "y_predict = model.predict(test_data) \n",
    "\n",
    "#输出accuracy分数\n",
    "score_all = calc_accuracy(y_predict, y_test,'xgb',score_all)"
   ]
  },
  {
   "cell_type": "code",
   "execution_count": 72,
   "metadata": {
    "tags": []
   },
   "outputs": [
    {
     "output_type": "stream",
     "name": "stdout",
     "text": "Accuracy Score: 0.9732\n"
    }
   ],
   "source": [
    "#调用sklearn的GBDT模型\n",
    "from sklearn.ensemble import GradientBoostingRegressor\n",
    "\n",
    "model = GradientBoostingRegressor(random_state=10)\n",
    "\n",
    "#训练\n",
    "model.fit(X_train, y_train)\n",
    "\n",
    "#预测\n",
    "y_predict = model.predict(X_test) \n",
    "#输出accuracy分数\n",
    "score_all = calc_accuracy(y_predict, y_test,'GBDT',score_all)"
   ]
  },
  {
   "cell_type": "code",
   "execution_count": 73,
   "metadata": {
    "tags": []
   },
   "outputs": [
    {
     "output_type": "stream",
     "name": "stdout",
     "text": "Accuracy Score: 0.9842\n[Parallel(n_jobs=1)]: Using backend SequentialBackend with 1 concurrent workers.\n[Parallel(n_jobs=1)]: Done   1 out of   1 | elapsed:    0.0s finished\n"
    }
   ],
   "source": [
    "#调用sklearn的LR模型\n",
    "from sklearn.linear_model.logistic import LogisticRegression\n",
    "\n",
    "model = LogisticRegression(max_iter=1000, \n",
    "                           verbose=True, \n",
    "                           random_state=33\n",
    "                          )\n",
    "\n",
    "model.fit(X_train, y_train)\n",
    "\n",
    "#预测\n",
    "y_predict = model.predict(X_test) \n",
    "#输出accuracy分数\n",
    "score_all = calc_accuracy(y_predict, y_test,'LR',score_all)"
   ]
  },
  {
   "cell_type": "code",
   "execution_count": 74,
   "metadata": {
    "tags": []
   },
   "outputs": [
    {
     "output_type": "stream",
     "name": "stdout",
     "text": "[LibLinear]Accuracy Score: 0.9826\n"
    }
   ],
   "source": [
    "#调用sklearn的SVC模型\n",
    "from sklearn.svm import SVC, LinearSVC\n",
    "from sklearn.preprocessing import MinMaxScaler\n",
    "\n",
    "#数据归一化\n",
    "scale = MinMaxScaler(feature_range=(0, 1))\n",
    "X_train = scale.fit_transform(X_train)\n",
    "X_test = scale.fit_transform(X_test)\n",
    "\n",
    "model = LinearSVC(\n",
    "\t\t\tmax_iter=1000,\n",
    "            verbose=True,\n",
    "\t\t\trandom_state=33\n",
    "\t\t\t\n",
    "\t\t   )\n",
    "\n",
    "model.fit(X_train, y_train)\n",
    "\n",
    "#预测\n",
    "y_predict = model.predict(X_test) \n",
    "#输出accuracy分数\n",
    "score_all = calc_accuracy(y_predict, y_test,'SVC',score_all)"
   ]
  },
  {
   "cell_type": "code",
   "execution_count": 75,
   "metadata": {},
   "outputs": [
    {
     "output_type": "execute_result",
     "data": {
      "text/plain": "  model     score\n0    LR  0.984227\n0   SVC   0.98265\n0   lgb  0.979495\n0   xgb  0.977918\n0   xgb  0.977918\n0  GBDT  0.973186",
      "text/html": "<div>\n<style scoped>\n    .dataframe tbody tr th:only-of-type {\n        vertical-align: middle;\n    }\n\n    .dataframe tbody tr th {\n        vertical-align: top;\n    }\n\n    .dataframe thead th {\n        text-align: right;\n    }\n</style>\n<table border=\"1\" class=\"dataframe\">\n  <thead>\n    <tr style=\"text-align: right;\">\n      <th></th>\n      <th>model</th>\n      <th>score</th>\n    </tr>\n  </thead>\n  <tbody>\n    <tr>\n      <th>0</th>\n      <td>LR</td>\n      <td>0.984227</td>\n    </tr>\n    <tr>\n      <th>0</th>\n      <td>SVC</td>\n      <td>0.98265</td>\n    </tr>\n    <tr>\n      <th>0</th>\n      <td>lgb</td>\n      <td>0.979495</td>\n    </tr>\n    <tr>\n      <th>0</th>\n      <td>xgb</td>\n      <td>0.977918</td>\n    </tr>\n    <tr>\n      <th>0</th>\n      <td>xgb</td>\n      <td>0.977918</td>\n    </tr>\n    <tr>\n      <th>0</th>\n      <td>GBDT</td>\n      <td>0.973186</td>\n    </tr>\n  </tbody>\n</table>\n</div>"
     },
     "metadata": {},
     "execution_count": 75
    }
   ],
   "source": [
    "score_all.sort_values(by = 'score', ascending = False)"
   ]
  },
  {
   "source": [
    "### thinking conclusion\n",
    "- 使用5个模型预测男女声音, 得到最高accuracy score是LR模型\n",
    "- 感觉分数都太高(尤其是跑auc值时), 有过拟合嫌疑? 看老师案例, 除了X_train, X_test数据, lgb和xgb 都使用了另一份数据test(样本外数据)"
   ],
   "cell_type": "markdown",
   "metadata": {}
  }
 ]
}