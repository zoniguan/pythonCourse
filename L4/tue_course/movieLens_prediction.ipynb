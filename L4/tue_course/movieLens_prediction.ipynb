{
 "metadata": {
  "language_info": {
   "codemirror_mode": {
    "name": "ipython",
    "version": 3
   },
   "file_extension": ".py",
   "mimetype": "text/x-python",
   "name": "python",
   "nbconvert_exporter": "python",
   "pygments_lexer": "ipython3",
   "version": "3.7.4-final"
  },
  "orig_nbformat": 2,
  "kernelspec": {
   "name": "python_defaultSpec_1599900987699",
   "display_name": "Python 3.7.4 64-bit ('base': conda)"
  }
 },
 "nbformat": 4,
 "nbformat_minor": 2,
 "cells": [
  {
   "cell_type": "markdown",
   "metadata": {},
   "source": [
    "对MovieLens数据集进行评分预测 ; 工具：可以使用Surprise或者其他说明使用的模型，及简要原理"
   ]
  },
  {
   "cell_type": "code",
   "execution_count": 11,
   "metadata": {},
   "outputs": [],
   "source": [
    "from surprise import SVD\n",
    "from surprise import Dataset\n",
    "from surprise.model_selection import cross_validate\n",
    "#from surprise import evaluate, print_perf\n",
    "from surprise import Reader\n",
    "from surprise import BaselineOnly,  NormalPredictor, SlopeOne, KNNBasic \n",
    "from surprise import accuracy\n",
    "from surprise.model_selection import KFold\n",
    "import pandas as pd\n",
    "import io\n",
    "import pandas as pd"
   ]
  },
  {
   "cell_type": "code",
   "execution_count": 4,
   "metadata": {},
   "outputs": [],
   "source": [
    "reader = Reader(line_format='user item rating', sep=',', skip_lines=1) #读取的数据必须至少包含三列数据： user、item、ratings\n",
    "data = Dataset.load_from_file(r'E:\\bi_course\\L4\\tue_course\\课堂资料\\L4\\MovieLens\\ratings.csv', reader=reader)\n",
    "train_set = data.build_full_trainset()\n"
   ]
  },
  {
   "cell_type": "code",
   "execution_count": 5,
   "metadata": {
    "tags": []
   },
   "outputs": [
    {
     "output_type": "stream",
     "name": "stdout",
     "text": "Estimating biases using als...\nRMSE: 0.8641\nEstimating biases using als...\nRMSE: 0.8636\nEstimating biases using als...\nRMSE: 0.8637\nuser: 196        item: 302        r_ui = 4.00   est = 4.09   {'was_impossible': False}\n"
    }
   ],
   "source": [
    "# Baseline算法，使用ALS进行优化\n",
    "bsl_options = {'method': 'als','n_epochs': 5,'reg_u': 12,'reg_i': 5}\n",
    "algo = BaselineOnly(bsl_options=bsl_options)\n",
    "# 定义K折交叉验证迭代器，K=3\n",
    "kf = KFold(n_splits=3)\n",
    "for trainset, testset in kf.split(data):\n",
    "    algo.fit(trainset)\n",
    "    predictions = algo.test(testset)\n",
    "    accuracy.rmse(predictions, verbose=True)\n",
    "\n",
    "uid = str(196)\n",
    "iid = str(302)\n",
    "pred = algo.predict(uid, iid, r_ui=4, verbose=True)"
   ]
  },
  {
   "cell_type": "code",
   "execution_count": 6,
   "metadata": {
    "tags": []
   },
   "outputs": [
    {
     "output_type": "stream",
     "name": "stdout",
     "text": "Estimating biases using sgd...\nRMSE: 0.8741\nEstimating biases using sgd...\nRMSE: 0.8749\nEstimating biases using sgd...\nRMSE: 0.8746\nuser: 196        item: 302        r_ui = 4.00   est = 3.81   {'was_impossible': False}\n"
    }
   ],
   "source": [
    "# Baseline算法，使用SGD进行优化\n",
    "bsl_options = {'method': 'sgd','n_epochs': 5}\n",
    "algo = BaselineOnly(bsl_options=bsl_options)\n",
    "# 定义K折交叉验证迭代器，K=3\n",
    "kf = KFold(n_splits=3)\n",
    "for trainset, testset in kf.split(data):\n",
    "    algo.fit(trainset)\n",
    "    predictions = algo.test(testset)\n",
    "    accuracy.rmse(predictions, verbose=True)\n",
    "uid = str(196)\n",
    "iid = str(302)\n",
    "pred = algo.predict(uid, iid, r_ui=4, verbose=True)\n"
   ]
  },
  {
   "cell_type": "code",
   "execution_count": 7,
   "metadata": {
    "tags": []
   },
   "outputs": [
    {
     "output_type": "stream",
     "name": "stdout",
     "text": "RMSE: 1.4338\nRMSE: 1.4311\nRMSE: 1.4311\nuser: 196        item: 302        r_ui = 4.00   est = 3.20   {'was_impossible': False}\n"
    }
   ],
   "source": [
    "# NormalPredictor进行求解\n",
    "algo = NormalPredictor()\n",
    "# 定义K折交叉验证迭代器，K=3\n",
    "kf = KFold(n_splits=3)\n",
    "for trainset, testset in kf.split(data):\n",
    "    algo.fit(trainset)\n",
    "    predictions = algo.test(testset)\n",
    "    accuracy.rmse(predictions, verbose=True)\n",
    "uid = str(196)\n",
    "iid = str(302)\n",
    "pred = algo.predict(uid, iid, r_ui=4, verbose=True)\n"
   ]
  },
  {
   "cell_type": "code",
   "execution_count": 8,
   "metadata": {
    "tags": []
   },
   "outputs": [
    {
     "output_type": "stream",
     "name": "stdout",
     "text": "RMSE: 0.8678\nRMSE: 0.8669\nRMSE: 0.8697\nuser: 196        item: 302        r_ui = 4.00   est = 4.53   {'was_impossible': False}\n"
    }
   ],
   "source": [
    "#Slopone进行求解\n",
    "algo = SlopeOne()\n",
    "# 定义K折交叉验证迭代器，K=3\n",
    "kf = KFold(n_splits=3)\n",
    "for trainset, testset in kf.split(data):\n",
    "    algo.fit(trainset)\n",
    "    predictions = algo.test(testset)\n",
    "    accuracy.rmse(predictions, verbose=True)\n",
    "uid = str(196)\n",
    "iid = str(302)\n",
    "pred = algo.predict(uid, iid, r_ui=4, verbose=True)\n"
   ]
  },
  {
   "cell_type": "code",
   "execution_count": 9,
   "metadata": {
    "tags": []
   },
   "outputs": [
    {
     "output_type": "stream",
     "name": "stdout",
     "text": "Computing the msd similarity matrix...\nDone computing similarity matrix.\nRMSE: 0.9027\nComputing the msd similarity matrix...\nDone computing similarity matrix.\nRMSE: 0.9049\nComputing the msd similarity matrix...\nDone computing similarity matrix.\nRMSE: 0.9035\nuser: 196        item: 302        r_ui = 4.00   est = 3.69   {'actual_k': 40, 'was_impossible': False}\n"
    }
   ],
   "source": [
    "#KNNBasic进行求解\n",
    "algo = KNNBasic()\n",
    "# 定义K折交叉验证迭代器，K=3\n",
    "kf = KFold(n_splits=3)\n",
    "for trainset, testset in kf.split(data):\n",
    "    algo.fit(trainset)\n",
    "    predictions = algo.test(testset)\n",
    "    accuracy.rmse(predictions, verbose=True)\n",
    "uid = str(196)\n",
    "iid = str(302)\n",
    "pred = algo.predict(uid, iid, r_ui=4, verbose=True)"
   ]
  }
 ]
}